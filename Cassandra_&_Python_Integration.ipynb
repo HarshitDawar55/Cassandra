{
 "cells": [
  {
   "cell_type": "markdown",
   "metadata": {},
   "source": [
    "# Connecting to the Cassandra Database using Python by `Mr. Harshit Dawar`!"
   ]
  },
  {
   "cell_type": "code",
   "execution_count": 9,
   "metadata": {},
   "outputs": [],
   "source": [
    "# Importing Cluster from cassandra in order to connect to the cluster & open a session!\n",
    "from cassandra.cluster import Cluster"
   ]
  },
  {
   "cell_type": "code",
   "execution_count": 10,
   "metadata": {},
   "outputs": [],
   "source": [
    "# Initializing the object!\n",
    "cluster = Cluster()"
   ]
  },
  {
   "cell_type": "markdown",
   "metadata": {},
   "source": [
    "## Connecting to the Session"
   ]
  },
  {
   "cell_type": "code",
   "execution_count": 11,
   "metadata": {},
   "outputs": [],
   "source": [
    "# Connecting to the KeySpace\n",
    "session = cluster.connect(\"killrvideo\")"
   ]
  },
  {
   "cell_type": "markdown",
   "metadata": {},
   "source": [
    "## Executing a query in the Session "
   ]
  },
  {
   "cell_type": "code",
   "execution_count": 28,
   "metadata": {},
   "outputs": [],
   "source": [
    "# Storing the result of the query!\n",
    "result = session.execute(\"select * from videos_by_tag;\").one()"
   ]
  },
  {
   "cell_type": "code",
   "execution_count": 29,
   "metadata": {},
   "outputs": [
    {
     "name": "stdout",
     "output_type": "stream",
     "text": [
      "<class 'cassandra.io.libevreactor.Row'>\n"
     ]
    }
   ],
   "source": [
    "# Printing the type of the result!\n",
    "print(type(result))"
   ]
  },
  {
   "cell_type": "code",
   "execution_count": 30,
   "metadata": {},
   "outputs": [
    {
     "name": "stdout",
     "output_type": "stream",
     "text": [
      "Row(tag='datastax', added_date=datetime.datetime(2013, 10, 16, 5, 30), video_id=UUID('4845ed97-14bd-11e5-8a40-8338255b7e33'), title='DataStax Studio')\n"
     ]
    }
   ],
   "source": [
    "# Printing the result in the default format!\n",
    "print(result)"
   ]
  },
  {
   "cell_type": "markdown",
   "metadata": {},
   "source": [
    "## Printing the Result"
   ]
  },
  {
   "cell_type": "code",
   "execution_count": 34,
   "metadata": {},
   "outputs": [
    {
     "name": "stdout",
     "output_type": "stream",
     "text": [
      "datastax, 2013-10-16 05:30:00, 4845ed97-14bd-11e5-8a40-8338255b7e33, DataStax Studio, "
     ]
    }
   ],
   "source": [
    "for i in result:\n",
    "    print(i, end = \", \")"
   ]
  },
  {
   "cell_type": "code",
   "execution_count": 40,
   "metadata": {},
   "outputs": [
    {
     "name": "stdout",
     "output_type": "stream",
     "text": [
      "Tag          Video_ID                            Title\n",
      "datastax 4845ed97-14bd-11e5-8a40-8338255b7e33 DataStax Studio\n"
     ]
    }
   ],
   "source": [
    "# Printing the result in best format!\n",
    "print(\"{:12} {:35} {:5}\".format(\"Tag\", \"Video_ID\", \"Title\"))\n",
    "print(result[0], result[2], result[3])"
   ]
  },
  {
   "cell_type": "markdown",
   "metadata": {},
   "source": [
    "# I hope this code explains each & every step of the creating a session of cassandra using python. Thank you so much for investing your time in my work!"
   ]
  }
 ],
 "metadata": {
  "kernelspec": {
   "display_name": "Python 3",
   "language": "python",
   "name": "python3"
  },
  "language_info": {
   "codemirror_mode": {
    "name": "ipython",
    "version": 3
   },
   "file_extension": ".py",
   "mimetype": "text/x-python",
   "name": "python",
   "nbconvert_exporter": "python",
   "pygments_lexer": "ipython3",
   "version": "3.7.7"
  }
 },
 "nbformat": 4,
 "nbformat_minor": 4
}
